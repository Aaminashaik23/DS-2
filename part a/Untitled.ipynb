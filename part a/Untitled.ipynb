{
 "cells": [
  {
   "cell_type": "code",
   "execution_count": 8,
   "id": "8b8bc159",
   "metadata": {},
   "outputs": [],
   "source": [
    "import pandas as pd\n",
    "import numpy as np\n",
    "import matplotlib.pyplot as plt\n",
    "\n"
   ]
  },
  {
   "cell_type": "code",
   "execution_count": 10,
   "id": "af9604ea",
   "metadata": {},
   "outputs": [],
   "source": [
    "df=pd.read_csv('../diabetes.csv')"
   ]
  },
  {
   "cell_type": "code",
   "execution_count": 17,
   "id": "f617164d",
   "metadata": {},
   "outputs": [],
   "source": [
    "\n",
    "np.random.seed(45)\n",
    "\n",
    "sample = df.sample(n=25)\n"
   ]
  },
  {
   "cell_type": "code",
   "execution_count": 18,
   "id": "d3f45464",
   "metadata": {},
   "outputs": [
    {
     "name": "stdout",
     "output_type": "stream",
     "text": [
      "Sample mean glucose value: 119.24\n",
      "Sample highest glucose value: 193\n"
     ]
    }
   ],
   "source": [
    "\n",
    "sample_mean = sample['Glucose'].mean()\n",
    "sample_max = sample['Glucose'].max()\n",
    "\n",
    "print(\"Sample mean glucose value:\", sample_mean)\n",
    "print(\"Sample highest glucose value:\", sample_max)\n"
   ]
  },
  {
   "cell_type": "code",
   "execution_count": 19,
   "id": "7f6505be",
   "metadata": {},
   "outputs": [
    {
     "data": {
      "image/png": "[encoded data removed]",
      "text/plain": [
       "<Figure size 432x288 with 1 Axes>"
      ]
     },
     "metadata": {
      "needs_background": "light"
     },
     "output_type": "display_data"
    }
   ],
   "source": [
    "\n",
    "plt.hist(df['Glucose'], bins=20)\n",
    "plt.axvline(x=sample_mean, color='r', linestyle='dashed', linewidth=1, label=\"Sample Mean\")\n",
    "plt.axvline(x=sample_max, color='g', linestyle='dashed', linewidth=1, label=\"Sample Max\")\n",
    "plt.legend()\n",
    "plt.xlabel('Glucose')\n",
    "plt.ylabel('Frequency')\n",
    "plt.title('Distribution of Glucose Values')\n",
    "plt.show()\n"
   ]
  },
  {
   "cell_type": "code",
   "execution_count": 20,
   "id": "3de4bab8",
   "metadata": {},
   "outputs": [
    {
     "name": "stdout",
     "output_type": "stream",
     "text": [
      "Population mean glucose value: 120.89453125\n",
      "Population highest glucose value: 199\n"
     ]
    }
   ],
   "source": [
    "\n",
    "pop_mean = df['Glucose'].mean()\n",
    "pop_max = df['Glucose'].max()\n",
    "\n",
    "print(\"Population mean glucose value:\", pop_mean)\n",
    "print(\"Population highest glucose value:\", pop_max)\n"
   ]
  },
  {
   "cell_type": "code",
   "execution_count": null,
   "id": "43691289",
   "metadata": {},
   "outputs": [],
   "source": []
  }
 ],
 "metadata": {
  "kernelspec": {
   "display_name": "Python 3",
   "language": "python",
   "name": "python3"
  },
  "language_info": {
   "codemirror_mode": {
    "name": "ipython",
    "version": 3
   },
   "file_extension": ".py",
   "mimetype": "text/x-python",
   "name": "python",
   "nbconvert_exporter": "python",
   "pygments_lexer": "ipython3",
   "version": "3.8.8"
  }
 },
 "nbformat": 4,
 "nbformat_minor": 5
}
